{
 "cells": [
  {
   "cell_type": "markdown",
   "metadata": {},
   "source": [
    "#### Pick similar movies using Gemini instead of using cosine search on embeddings"
   ]
  },
  {
   "cell_type": "code",
   "execution_count": 13,
   "metadata": {},
   "outputs": [],
   "source": [
    "import re\n",
    "import os\n",
    "import json\n",
    "from tqdm import tqdm\n",
    "from glob import glob\n",
    "from PIL import Image\n",
    "from google import genai\n",
    "\n",
    "from pydantic import BaseModel, TypeAdapter"
   ]
  },
  {
   "cell_type": "code",
   "execution_count": null,
   "metadata": {},
   "outputs": [
    {
     "data": {
      "text/plain": [
       "154"
      ]
     },
     "execution_count": 72,
     "metadata": {},
     "output_type": "execute_result"
    }
   ],
   "source": [
    "with open('src/server/movies_emoji.json') as f:\n",
    "    list_of_movies = json.load(f)\n",
    "    print(list_of_movies[0])"
   ]
  },
  {
   "cell_type": "code",
   "execution_count": 73,
   "metadata": {},
   "outputs": [],
   "source": [
    "for movie in list_of_movies:\n",
    "    del movie['hash']\n",
    "    del movie['embedding']"
   ]
  },
  {
   "cell_type": "code",
   "execution_count": 75,
   "metadata": {},
   "outputs": [],
   "source": [
    "apikey = os.environ.get(\"GEMINI_API_KEY\")"
   ]
  },
  {
   "cell_type": "code",
   "execution_count": 76,
   "metadata": {},
   "outputs": [],
   "source": [
    "client = genai.Client(api_key=apikey)"
   ]
  },
  {
   "cell_type": "code",
   "execution_count": 77,
   "metadata": {},
   "outputs": [],
   "source": [
    "class Movie(BaseModel):\n",
    "  provided_movie: str\n",
    "  fun_fact:str\n",
    "  similar_movies: list[str]"
   ]
  },
  {
   "cell_type": "code",
   "execution_count": 78,
   "metadata": {},
   "outputs": [],
   "source": [
    "with open('src/server/movies_emoji.json') as f:\n",
    "    all_movies = json.load(f)"
   ]
  },
  {
   "cell_type": "code",
   "execution_count": 85,
   "metadata": {},
   "outputs": [
    {
     "name": "stderr",
     "output_type": "stream",
     "text": [
      "100%|██████████| 154/154 [07:33<00:00,  2.94s/it]\n"
     ]
    }
   ],
   "source": [
    "index = 0\n",
    "listed = []\n",
    "for movie in tqdm(list_of_movies):\n",
    "    response = client.models.generate_content(\n",
    "    model=\"gemini-2.0-flash\", contents=f\"Choose three movies similar to the provided movie: {movie['name']} from the list below. Note, do not pick a sequel or prequel, instead use the given names and descriptions of the movie in order to pick the similar movies. Also return a fun fact about the movie provided.: \\n{list_of_movies}\",\n",
    "    config={\n",
    "        'response_mime_type': 'application/json',\n",
    "        'response_schema': list[Movie],\n",
    "    })\n",
    "    movie_details = response.parsed[0]\n",
    "    new_movie = all_movies[index]\n",
    "    new_movie[\"funfact\"] = movie_details.fun_fact\n",
    "    new_movie[\"similar\"] = movie_details.similar_movies\n",
    "    index+=1\n",
    "    listed.append(new_movie)\n",
    "    with open('enriched.json','w')as outfile:\n",
    "        json.dump(listed,outfile,ensure_ascii=False)"
   ]
  },
  {
   "cell_type": "code",
   "execution_count": null,
   "metadata": {},
   "outputs": [],
   "source": []
  }
 ],
 "metadata": {
  "kernelspec": {
   "display_name": "Python 3",
   "language": "python",
   "name": "python3"
  },
  "language_info": {
   "codemirror_mode": {
    "name": "ipython",
    "version": 3
   },
   "file_extension": ".py",
   "mimetype": "text/x-python",
   "name": "python",
   "nbconvert_exporter": "python",
   "pygments_lexer": "ipython3",
   "version": "3.10.4"
  }
 },
 "nbformat": 4,
 "nbformat_minor": 2
}
